{
 "cells": [
  {
   "cell_type": "markdown",
   "metadata": {},
   "source": [
    "# **Keywords :-**\n",
    "\n",
    "Python is a case sensitive programming language. In programming, a keyword is a word that is reserved by a program because the word has a special\n",
    "meaning. Keywords can be commands or parameters. Every programming language has a set of keywords that cannot be used as variable names.\n",
    "\n",
    "* Python has 33 keywords\n"
   ]
  },
  {
   "cell_type": "code",
   "execution_count": 1,
   "metadata": {},
   "outputs": [],
   "source": [
    "import keyword\n"
   ]
  },
  {
   "cell_type": "code",
   "execution_count": 2,
   "metadata": {},
   "outputs": [
    {
     "name": "stdout",
     "output_type": "stream",
     "text": [
      "['False', 'None', 'True', 'and', 'as', 'assert', 'async', 'await', 'break', 'class', 'continue', 'def', 'del', 'elif', 'else', 'except', 'finally', 'for', 'from', 'global', 'if', 'import', 'in', 'is', 'lambda', 'nonlocal', 'not', 'or', 'pass', 'raise', 'return', 'try', 'while', 'with', 'yield']\n"
     ]
    }
   ],
   "source": [
    "print(keyword.kwlist)"
   ]
  },
  {
   "cell_type": "markdown",
   "metadata": {},
   "source": [
    "### Identifiers :-\n",
    "'''\n",
    "A Python identifiers is a name used to identify a variable, funtion, class, module or other object.\n",
    "\n",
    "Rules for setting Identifiers :-\n",
    "1. can only start with an alphabet or _\n",
    "2. Followed by 0 or more letter, _ and digits\n",
    "3. keywords cannot be used as identifires"
   ]
  },
  {
   "cell_type": "code",
   "execution_count": 3,
   "metadata": {},
   "outputs": [
    {
     "name": "stdout",
     "output_type": "stream",
     "text": [
      "hari ram ram1 hari1 J_P_t 123\n"
     ]
    }
   ],
   "source": [
    "# 1. we can only start with an alphabet or _\n",
    "name ='hari'\n",
    "_name ='ram'\n",
    "name1='hari1'\n",
    "_name1='ram1'\n",
    "_ = 'J_P_t'\n",
    "_123 = \"123\"\n",
    "\n",
    "print(name,_name,_name1,name1,_,_123)"
   ]
  },
  {
   "cell_type": "code",
   "execution_count": 4,
   "metadata": {},
   "outputs": [
    {
     "name": "stdout",
     "output_type": "stream",
     "text": [
      "Nitis humm\n"
     ]
    }
   ],
   "source": [
    "# 2. your variable name can be followed by 0 or more letter, _ and digits\n",
    "first_name = \"Nitis\"\n",
    "__ = \"humm\"\n",
    "\n",
    "print(first_name, __)  # both will be valid"
   ]
  },
  {
   "cell_type": "code",
   "execution_count": 5,
   "metadata": {},
   "outputs": [],
   "source": [
    "# # but ,\n",
    "# first-name = \"ram\"\n",
    "# 1name = 'ram'\n",
    "\n",
    "# print(first-name, 1name) # both won't be valid & It will thown an error"
   ]
  },
  {
   "cell_type": "code",
   "execution_count": 6,
   "metadata": {},
   "outputs": [],
   "source": [
    "# #  3. keywords can't be used as an identifires\n",
    "\n",
    "# False = \"This will be not valid because it's a keywords\"\n",
    "# print(False) # It will thrown error"
   ]
  },
  {
   "cell_type": "markdown",
   "metadata": {},
   "source": [
    "# **Taking user input in python**"
   ]
  },
  {
   "cell_type": "code",
   "execution_count": 7,
   "metadata": {},
   "outputs": [
    {
     "data": {
      "text/plain": [
       "''"
      ]
     },
     "execution_count": 7,
     "metadata": {},
     "output_type": "execute_result"
    }
   ],
   "source": [
    "input()"
   ]
  },
  {
   "cell_type": "code",
   "execution_count": 8,
   "metadata": {},
   "outputs": [
    {
     "data": {
      "text/plain": [
       "''"
      ]
     },
     "execution_count": 8,
     "metadata": {},
     "output_type": "execute_result"
    }
   ],
   "source": [
    "input(\"Enter your name : \")"
   ]
  },
  {
   "cell_type": "code",
   "execution_count": 9,
   "metadata": {},
   "outputs": [],
   "source": [
    "first_num = input(\"Enter first number\")\n",
    "second_num = input(\"Enter second number\")\n"
   ]
  },
  {
   "cell_type": "code",
   "execution_count": null,
   "metadata": {},
   "outputs": [],
   "source": []
  }
 ],
 "metadata": {
  "kernelspec": {
   "display_name": "Python 3",
   "language": "python",
   "name": "python3"
  },
  "language_info": {
   "codemirror_mode": {
    "name": "ipython",
    "version": 3
   },
   "file_extension": ".py",
   "mimetype": "text/x-python",
   "name": "python",
   "nbconvert_exporter": "python",
   "pygments_lexer": "ipython3",
   "version": "3.12.0"
  }
 },
 "nbformat": 4,
 "nbformat_minor": 2
}

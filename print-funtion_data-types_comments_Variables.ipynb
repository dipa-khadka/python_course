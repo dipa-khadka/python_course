{
 "cells": [
  {
   "cell_type": "code",
   "execution_count": 25,
   "metadata": {},
   "outputs": [
    {
     "name": "stdout",
     "output_type": "stream",
     "text": [
      "Hello World!!!\n"
     ]
    }
   ],
   "source": [
    "# print strings\n",
    "print('Hello World!!!')"
   ]
  },
  {
   "cell_type": "code",
   "execution_count": 26,
   "metadata": {},
   "outputs": [
    {
     "name": "stdout",
     "output_type": "stream",
     "text": [
      "78\n"
     ]
    }
   ],
   "source": [
    "# print int value\n",
    "print(78)"
   ]
  },
  {
   "cell_type": "code",
   "execution_count": 27,
   "metadata": {},
   "outputs": [
    {
     "name": "stdout",
     "output_type": "stream",
     "text": [
      "5.7\n"
     ]
    }
   ],
   "source": [
    "# print floating value\n",
    "print(5.7)\n"
   ]
  },
  {
   "cell_type": "code",
   "execution_count": 28,
   "metadata": {},
   "outputs": [
    {
     "name": "stdout",
     "output_type": "stream",
     "text": [
      "apple-orange-kiwi-banana\n",
      "______________\n",
      "Hello\n",
      "Nepal\n",
      "______________\n",
      "Hello Nepal\n"
     ]
    }
   ],
   "source": [
    "\n",
    "print('apple','orange','kiwi','banana',sep='-')\n",
    "print('______________')\n",
    "print('Hello')\n",
    "print('Nepal')\n",
    "print('______________')\n",
    "print(\"Hello\" ,end=' ')\n",
    "print('Nepal')"
   ]
  },
  {
   "cell_type": "markdown",
   "metadata": {},
   "source": [
    "# **python supports 3 categories of Data types :**\n",
    "\n",
    "1. Basic Types (integer, float, complex, boolean and string)\n",
    "2. Container Types (List, Tupels, Sets and Dictionary)\n",
    "3. User-defined Types -class\n",
    "  "
   ]
  },
  {
   "cell_type": "markdown",
   "metadata": {},
   "source": [
    "# Basic Types :- "
   ]
  },
  {
   "cell_type": "code",
   "execution_count": 29,
   "metadata": {},
   "outputs": [
    {
     "name": "stdout",
     "output_type": "stream",
     "text": [
      "4\n",
      "5000000050\n"
     ]
    }
   ],
   "source": [
    " # 1> integer\n",
    "print(4)\n",
    "print(5000000050)"
   ]
  },
  {
   "cell_type": "code",
   "execution_count": 30,
   "metadata": {},
   "outputs": [
    {
     "name": "stdout",
     "output_type": "stream",
     "text": [
      "5.6\n",
      "567.88968000007\n"
     ]
    }
   ],
   "source": [
    "# 2> float\n",
    "print(5.6)\n",
    "print(567.889680000070)"
   ]
  },
  {
   "cell_type": "code",
   "execution_count": 31,
   "metadata": {},
   "outputs": [
    {
     "name": "stdout",
     "output_type": "stream",
     "text": [
      "(7+4j)\n"
     ]
    }
   ],
   "source": [
    "# 3> complex\n",
    "print(7+4j)"
   ]
  },
  {
   "cell_type": "code",
   "execution_count": 32,
   "metadata": {},
   "outputs": [
    {
     "name": "stdout",
     "output_type": "stream",
     "text": [
      "Hi , maya\n",
      "Hi, Srijana\n",
      "Hi, susma\n"
     ]
    }
   ],
   "source": [
    "# 4> string\n",
    "print(\"Hi , maya\")\n",
    "print('Hi, Srijana')\n",
    "print('''Hi, susma''')"
   ]
  },
  {
   "cell_type": "markdown",
   "metadata": {},
   "source": [
    "# Container Types :-"
   ]
  },
  {
   "cell_type": "code",
   "execution_count": 33,
   "metadata": {},
   "outputs": [
    {
     "name": "stdout",
     "output_type": "stream",
     "text": [
      "[1, 2, 3, 4, 5]\n"
     ]
    }
   ],
   "source": [
    "# 1> List\n",
    "print([1,2,3,4,5])"
   ]
  },
  {
   "cell_type": "code",
   "execution_count": 34,
   "metadata": {},
   "outputs": [
    {
     "name": "stdout",
     "output_type": "stream",
     "text": [
      "(1, 2, 3, 4, 5)\n"
     ]
    }
   ],
   "source": [
    "# 2> Tuple\n",
    "print((1,2,3,4,5))"
   ]
  },
  {
   "cell_type": "code",
   "execution_count": 35,
   "metadata": {},
   "outputs": [
    {
     "name": "stdout",
     "output_type": "stream",
     "text": [
      "{1, 2, 3, 4, 5}\n"
     ]
    }
   ],
   "source": [
    "# 3> sets\n",
    "print({1,2,3,4,5})"
   ]
  },
  {
   "cell_type": "code",
   "execution_count": 36,
   "metadata": {},
   "outputs": [
    {
     "name": "stdout",
     "output_type": "stream",
     "text": [
      "{'Name': 'Maya', 'Age': 30, 'Gender': 'Female'}\n"
     ]
    }
   ],
   "source": [
    "# 4> dictionary\n",
    "print({'Name':'Maya','Age':30, 'Gender':'Female'})"
   ]
  },
  {
   "cell_type": "code",
   "execution_count": 37,
   "metadata": {},
   "outputs": [
    {
     "data": {
      "text/plain": [
       "\"COMPILER CAN'T EXECUTE THE CODE \""
      ]
     },
     "execution_count": 37,
     "metadata": {},
     "output_type": "execute_result"
    }
   ],
   "source": [
    "# COMMENTS :-\n",
    "'''COMPILER CAN'T EXECUTE THE CODE '''"
   ]
  },
  {
   "cell_type": "markdown",
   "metadata": {},
   "source": [
    "\n",
    "# **Variables :-**\n",
    "\n",
    "\n",
    "In python there is no need to declaration of variable types this features is also known as Dynamic Typing.\n"
   ]
  },
  {
   "cell_type": "code",
   "execution_count": 38,
   "metadata": {},
   "outputs": [
    {
     "name": "stdout",
     "output_type": "stream",
     "text": [
      "maya 18\n"
     ]
    }
   ],
   "source": [
    "name = 'maya'\n",
    "age = 18\n",
    "\n",
    "print(name,age)"
   ]
  },
  {
   "cell_type": "code",
   "execution_count": 39,
   "metadata": {},
   "outputs": [
    {
     "name": "stdout",
     "output_type": "stream",
     "text": [
      "10 15 20\n",
      "2 4 6\n",
      "13 13 13\n"
     ]
    }
   ],
   "source": [
    "# python also has Dyanamic Binding which means one variable can store multiple data types or values.\n",
    "\n",
    "# special syntax\n",
    "a=10; b=15; c=20\n",
    "print(a,b,c)\n",
    "\n",
    "a,b,c=2,4,6\n",
    "print(a,b,c)\n",
    "      \n",
    "      \n",
    "a = b= c= 13\n",
    "print(a,b,c)"
   ]
  },
  {
   "cell_type": "code",
   "execution_count": null,
   "metadata": {},
   "outputs": [],
   "source": []
  }
 ],
 "metadata": {
  "kernelspec": {
   "display_name": "Python 3",
   "language": "python",
   "name": "python3"
  },
  "language_info": {
   "codemirror_mode": {
    "name": "ipython",
    "version": 3
   },
   "file_extension": ".py",
   "mimetype": "text/x-python",
   "name": "python",
   "nbconvert_exporter": "python",
   "pygments_lexer": "ipython3",
   "version": "3.12.0"
  }
 },
 "nbformat": 4,
 "nbformat_minor": 2
}
